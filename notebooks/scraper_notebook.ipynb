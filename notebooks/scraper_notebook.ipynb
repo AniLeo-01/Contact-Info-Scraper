{
 "cells": [
  {
   "cell_type": "code",
   "execution_count": 32,
   "metadata": {},
   "outputs": [],
   "source": [
    "from supabase.client import Client, create_client\n",
    "from langchain.text_splitter import RecursiveCharacterTextSplitter\n",
    "# from langchain.document_loaders import AsyncChromiumLoader\n",
    "from langchain.vectorstores import SupabaseVectorStore\n",
    "from langchain.document_loaders import AsyncHtmlLoader\n",
    "from langchain.document_transformers import BeautifulSoupTransformer\n",
    "import requests\n",
    "import json\n",
    "from langchain.embeddings.openai import OpenAIEmbeddings\n",
    "from langchain.chat_models import ChatOpenAI\n",
    "from langchain.prompts import PromptTemplate\n",
    "from langchain.chains import RetrievalQA\n",
    "import ast\n",
    "from dotenv import load_dotenv\n",
    "import os\n",
    "from typing import List"
   ]
  },
  {
   "cell_type": "code",
   "execution_count": 33,
   "metadata": {},
   "outputs": [],
   "source": [
    "load_dotenv()\n",
    "\n",
    "SUPABASE_URL = os.environ.get(\"SUPABASE_URL\")\n",
    "SUPABASE_KEY = os.environ.get(\"SUPABASE_KEY\")\n",
    "OPENAI_API_KEY = os.environ.get(\"OPENAI_API_KEY\")\n",
    "SERPER_API_KEY = os.environ.get(\"SERPER_API_KEY\")\n",
    "\n",
    "prompt = \"\"\"You are a highly advanced website scraper bot that understands phone numbers, emails and URLs.\\\n",
    "          Using the context below, perform the following task and return the output in JSON format with the keys: phone_number, email\\\n",
    "          Do not hallucinate anything or invent any response. Strictly follow the JSON format. If you don't find the value to the key, return None.\\\n",
    "          Context Information:\\\n",
    "          {context}\\\n",
    "          Task Instruction:\\\n",
    "        {question}\"\"\"\n",
    "\n"
   ]
  },
  {
   "cell_type": "code",
   "execution_count": 34,
   "metadata": {},
   "outputs": [],
   "source": [
    "def initialize_supabase_db():\n",
    "    supabase: Client = create_client(SUPABASE_URL, SUPABASE_KEY)\n",
    "    return supabase\n"
   ]
  },
  {
   "cell_type": "code",
   "execution_count": 35,
   "metadata": {},
   "outputs": [],
   "source": [
    "def scraper_with_playwright(url):\n",
    "    # loader = AsyncChromiumLoader(url)\n",
    "    loader = AsyncHtmlLoader(url, default_parser=\"html5lib\")\n",
    "    docs = loader.load()\n",
    "    bs_transformer = BeautifulSoupTransformer()\n",
    "    docs_transformed = bs_transformer.transform_documents(\n",
    "        docs, tags_to_extract=[\"header\", \"p\", \"li\", \"div\", \"a\", \"footer\"]\n",
    "    )\n",
    "    splitter = RecursiveCharacterTextSplitter.from_tiktoken_encoder(\n",
    "        chunk_size=1000, chunk_overlap=0\n",
    "    )\n",
    "    docs = splitter.split_documents(docs_transformed)\n",
    "    return docs"
   ]
  },
  {
   "cell_type": "code",
   "execution_count": 36,
   "metadata": {},
   "outputs": [],
   "source": [
    "def create_supabase_vectorstore(embeddings: OpenAIEmbeddings, docs):\n",
    "    vector_store = SupabaseVectorStore.from_documents(\n",
    "        docs,\n",
    "        embedding = embeddings,\n",
    "        client=initialize_supabase_db(),\n",
    "        table_name=\"documents\",\n",
    "        query_name=\"match_documents\",\n",
    "    )\n",
    "    return vector_store"
   ]
  },
  {
   "cell_type": "code",
   "execution_count": 37,
   "metadata": {},
   "outputs": [],
   "source": [
    "def contact_info_scraper_using_llm(prompt: str, docs):\n",
    "    llm = ChatOpenAI(temperature=0, openai_api_key=OPENAI_API_KEY)\n",
    "    embeddings = OpenAIEmbeddings(openai_api_key=OPENAI_API_KEY)\n",
    "    vector_retriever = create_supabase_vectorstore(embeddings, docs)\n",
    "\n",
    "    prompt_template = PromptTemplate(template=prompt,\n",
    "                                     input_variables=[\"question\", \"context\"])\n",
    "    question = \"Extract the contact number and email address\"\n",
    "    qa = RetrievalQA.from_chain_type(\n",
    "        llm = llm,\n",
    "        chain_type = 'stuff',\n",
    "        retriever = vector_retriever.as_retriever(),\n",
    "        chain_type_kwargs = {'prompt': prompt_template}\n",
    "    )\n",
    "    #fetch the query instruction from the prompts file\n",
    "    res = qa({'query': question})\n",
    "    return res"
   ]
  },
  {
   "cell_type": "code",
   "execution_count": 38,
   "metadata": {},
   "outputs": [],
   "source": [
    "def get_google_search_results(query, filters, num_results):\n",
    "    # Make a GET request to the Google Custom JSON Search API\n",
    "    for filter in filters:\n",
    "        query = query + \" -inurl:\" + filter\n",
    "    url = \"https://google.serper.dev/search\"\n",
    "    payload = json.dumps({\n",
    "    \"q\": query,\n",
    "    \"num\": num_results\n",
    "    })\n",
    "    headers = {\n",
    "    'X-API-KEY': SERPER_API_KEY,\n",
    "    'Content-Type': 'application/json'\n",
    "    }\n",
    "    response = requests.request(\"POST\", url, headers=headers, data=payload)\n",
    "    # Parse the JSON response\n",
    "    data = ast.literal_eval(response.content.decode())\n",
    "\n",
    "    # Extract the URLs of the search results\n",
    "    urls = []\n",
    "    for item in data[\"organic\"]:\n",
    "        url = item[\"link\"]\n",
    "        urls.append(url)\n",
    "\n",
    "    return urls"
   ]
  },
  {
   "cell_type": "code",
   "execution_count": 39,
   "metadata": {},
   "outputs": [],
   "source": [
    "def scrape(query: str, exceptionFilters: List[str], num_results: int):\n",
    "    client = initialize_supabase_db()\n",
    "    urls = get_google_search_results(query, exceptionFilters, num_results)\n",
    "    print(\"URL: \", urls)\n",
    "    data = []\n",
    "    for url in urls:\n",
    "        docs = scraper_with_playwright([url])\n",
    "        results = contact_info_scraper_using_llm(prompt, docs)\n",
    "        client.table('documents').delete().neq('id', '00000000-0000-0000-0000-000000000000').execute()\n",
    "        res = json.loads(results['result'])\n",
    "        res['url'] = url\n",
    "        data.append(res)\n",
    "    return data"
   ]
  },
  {
   "cell_type": "code",
   "execution_count": 40,
   "metadata": {},
   "outputs": [
    {
     "name": "stdout",
     "output_type": "stream",
     "text": [
      "URL:  ['https://www.santateresaluxury.com/', 'https://www.luxuryvillasincostarica.com/mal-pais-santa-teresa/', 'https://villassantateresa.com/', 'https://www.tripadvisor.com/Hotel_Review-g635538-d1977802-Reviews-Villas_Santa_Teresa-Santa_Teresa_Province_of_Puntarenas.html', 'https://casateresacr.com/', 'https://www.joyavillascostarica.com/', 'https://www.i-escape.com/santa-teresa-luxury-villas', 'https://calavacationhomes.com/', 'https://www.tripadvisor.com/Hotels-g635538-c3-zff22-Santa_Teresa_Province_of_Puntarenas-Hotels.html', 'https://www.vacationscostarica.com/santa-teresa/rentals/']\n"
     ]
    },
    {
     "name": "stderr",
     "output_type": "stream",
     "text": [
      "Fetching pages: 100%|##########| 1/1 [00:02<00:00,  2.14s/it]\n",
      "2023-12-18 13:59:44,327:INFO - HTTP Request: POST https://api.openai.com/v1/embeddings \"HTTP/1.1 200 OK\"\n",
      "2023-12-18 13:59:45,383:INFO - HTTP Request: POST https://weflohyplshcasjyzpqa.supabase.co/rest/v1/documents \"HTTP/1.1 201 Created\"\n",
      "2023-12-18 13:59:45,821:INFO - HTTP Request: POST https://api.openai.com/v1/embeddings \"HTTP/1.1 200 OK\"\n",
      "2023-12-18 13:59:45,999:INFO - HTTP Request: POST https://weflohyplshcasjyzpqa.supabase.co/rest/v1/rpc/match_documents?limit=4 \"HTTP/1.1 200 OK\"\n",
      "2023-12-18 13:59:48,418:INFO - HTTP Request: POST https://api.openai.com/v1/chat/completions \"HTTP/1.1 200 OK\"\n"
     ]
    },
    {
     "name": "stdout",
     "output_type": "stream",
     "text": [
      "{'query': 'Extract the contact number and email address', 'result': '{\\n  \"phone_number\": \"+506 8683 1230\",\\n  \"email\": \"info@santateresaluxury.com\"\\n}'}\n"
     ]
    },
    {
     "name": "stderr",
     "output_type": "stream",
     "text": [
      "2023-12-18 13:59:48,823:INFO - HTTP Request: DELETE https://weflohyplshcasjyzpqa.supabase.co/rest/v1/documents?id=neq.00000000-0000-0000-0000-000000000000 \"HTTP/1.1 200 OK\"\n",
      "Fetching pages: 100%|##########| 1/1 [00:01<00:00,  1.80s/it]\n",
      "2023-12-18 13:59:53,846:INFO - HTTP Request: POST https://api.openai.com/v1/embeddings \"HTTP/1.1 200 OK\"\n",
      "2023-12-18 13:59:54,665:INFO - HTTP Request: POST https://weflohyplshcasjyzpqa.supabase.co/rest/v1/documents \"HTTP/1.1 201 Created\"\n",
      "2023-12-18 13:59:55,173:INFO - HTTP Request: POST https://api.openai.com/v1/embeddings \"HTTP/1.1 200 OK\"\n",
      "2023-12-18 13:59:55,291:INFO - HTTP Request: POST https://weflohyplshcasjyzpqa.supabase.co/rest/v1/rpc/match_documents?limit=4 \"HTTP/1.1 200 OK\"\n",
      "2023-12-18 13:59:57,018:INFO - HTTP Request: POST https://api.openai.com/v1/chat/completions \"HTTP/1.1 200 OK\"\n",
      "2023-12-18 13:59:57,222:INFO - HTTP Request: DELETE https://weflohyplshcasjyzpqa.supabase.co/rest/v1/documents?id=neq.00000000-0000-0000-0000-000000000000 \"HTTP/1.1 200 OK\"\n"
     ]
    },
    {
     "name": "stdout",
     "output_type": "stream",
     "text": [
      "{'query': 'Extract the contact number and email address', 'result': '{\\n  \"phone_number\": \"+1 (754) 223 0031\",\\n  \"email\": null\\n}'}\n"
     ]
    },
    {
     "name": "stderr",
     "output_type": "stream",
     "text": [
      "Fetching pages: 100%|##########| 1/1 [00:03<00:00,  3.47s/it]\n",
      "2023-12-18 14:00:05,229:INFO - HTTP Request: POST https://api.openai.com/v1/embeddings \"HTTP/1.1 200 OK\"\n",
      "2023-12-18 14:00:05,532:INFO - HTTP Request: POST https://weflohyplshcasjyzpqa.supabase.co/rest/v1/documents \"HTTP/1.1 201 Created\"\n",
      "2023-12-18 14:00:06,029:INFO - HTTP Request: POST https://api.openai.com/v1/embeddings \"HTTP/1.1 200 OK\"\n",
      "2023-12-18 14:00:06,175:INFO - HTTP Request: POST https://weflohyplshcasjyzpqa.supabase.co/rest/v1/rpc/match_documents?limit=4 \"HTTP/1.1 200 OK\"\n",
      "2023-12-18 14:00:08,182:INFO - HTTP Request: POST https://api.openai.com/v1/chat/completions \"HTTP/1.1 200 OK\"\n"
     ]
    },
    {
     "name": "stdout",
     "output_type": "stream",
     "text": [
      "{'query': 'Extract the contact number and email address', 'result': '{\\n  \"phone_number\": \"+506 8494 5273\",\\n  \"email\": \"santateresavillas@gmail.com\"\\n}'}\n"
     ]
    },
    {
     "name": "stderr",
     "output_type": "stream",
     "text": [
      "2023-12-18 14:00:08,589:INFO - HTTP Request: DELETE https://weflohyplshcasjyzpqa.supabase.co/rest/v1/documents?id=neq.00000000-0000-0000-0000-000000000000 \"HTTP/1.1 200 OK\"\n",
      "Fetching pages: 100%|##########| 1/1 [00:01<00:00,  1.89s/it]\n",
      "2023-12-18 14:00:12,892:INFO - HTTP Request: POST https://api.openai.com/v1/embeddings \"HTTP/1.1 200 OK\"\n",
      "2023-12-18 14:00:13,837:INFO - HTTP Request: POST https://weflohyplshcasjyzpqa.supabase.co/rest/v1/documents \"HTTP/1.1 201 Created\"\n",
      "2023-12-18 14:00:14,311:INFO - HTTP Request: POST https://api.openai.com/v1/embeddings \"HTTP/1.1 200 OK\"\n",
      "2023-12-18 14:00:14,444:INFO - HTTP Request: POST https://weflohyplshcasjyzpqa.supabase.co/rest/v1/rpc/match_documents?limit=4 \"HTTP/1.1 200 OK\"\n",
      "2023-12-18 14:00:16,241:INFO - HTTP Request: POST https://api.openai.com/v1/chat/completions \"HTTP/1.1 200 OK\"\n"
     ]
    },
    {
     "name": "stdout",
     "output_type": "stream",
     "text": [
      "{'query': 'Extract the contact number and email address', 'result': '{\\n  \"phone_number\": null,\\n  \"email\": null\\n}'}\n"
     ]
    },
    {
     "name": "stderr",
     "output_type": "stream",
     "text": [
      "2023-12-18 14:00:16,453:INFO - HTTP Request: DELETE https://weflohyplshcasjyzpqa.supabase.co/rest/v1/documents?id=neq.00000000-0000-0000-0000-000000000000 \"HTTP/1.1 200 OK\"\n",
      "Fetching pages: 100%|##########| 1/1 [00:01<00:00,  1.61s/it]\n",
      "2023-12-18 14:00:21,011:INFO - HTTP Request: POST https://api.openai.com/v1/embeddings \"HTTP/1.1 200 OK\"\n",
      "2023-12-18 14:00:21,695:INFO - HTTP Request: POST https://weflohyplshcasjyzpqa.supabase.co/rest/v1/documents \"HTTP/1.1 201 Created\"\n",
      "2023-12-18 14:00:22,145:INFO - HTTP Request: POST https://api.openai.com/v1/embeddings \"HTTP/1.1 200 OK\"\n",
      "2023-12-18 14:00:22,289:INFO - HTTP Request: POST https://weflohyplshcasjyzpqa.supabase.co/rest/v1/rpc/match_documents?limit=4 \"HTTP/1.1 200 OK\"\n",
      "2023-12-18 14:00:24,259:INFO - HTTP Request: POST https://api.openai.com/v1/chat/completions \"HTTP/1.1 200 OK\"\n"
     ]
    },
    {
     "name": "stdout",
     "output_type": "stream",
     "text": [
      "{'query': 'Extract the contact number and email address', 'result': '{\\n  \"phone_number\": \"+50688319711\",\\n  \"email\": \"inquiries@casateresacr.com\"\\n}'}\n"
     ]
    },
    {
     "name": "stderr",
     "output_type": "stream",
     "text": [
      "2023-12-18 14:00:24,470:INFO - HTTP Request: DELETE https://weflohyplshcasjyzpqa.supabase.co/rest/v1/documents?id=neq.00000000-0000-0000-0000-000000000000 \"HTTP/1.1 200 OK\"\n",
      "Fetching pages: 100%|##########| 1/1 [00:00<00:00,  1.19it/s]\n",
      "2023-12-18 14:00:26,921:INFO - HTTP Request: POST https://api.openai.com/v1/embeddings \"HTTP/1.1 200 OK\"\n",
      "2023-12-18 14:00:27,255:INFO - HTTP Request: POST https://weflohyplshcasjyzpqa.supabase.co/rest/v1/documents \"HTTP/1.1 201 Created\"\n",
      "2023-12-18 14:00:27,600:INFO - HTTP Request: POST https://api.openai.com/v1/embeddings \"HTTP/1.1 200 OK\"\n",
      "2023-12-18 14:00:27,756:INFO - HTTP Request: POST https://weflohyplshcasjyzpqa.supabase.co/rest/v1/rpc/match_documents?limit=4 \"HTTP/1.1 200 OK\"\n",
      "2023-12-18 14:00:29,344:INFO - HTTP Request: POST https://api.openai.com/v1/chat/completions \"HTTP/1.1 200 OK\"\n",
      "2023-12-18 14:00:29,443:INFO - HTTP Request: DELETE https://weflohyplshcasjyzpqa.supabase.co/rest/v1/documents?id=neq.00000000-0000-0000-0000-000000000000 \"HTTP/1.1 200 OK\"\n"
     ]
    },
    {
     "name": "stdout",
     "output_type": "stream",
     "text": [
      "{'query': 'Extract the contact number and email address', 'result': '{\\n  \"phone_number\": \"+1 310 489 6504\",\\n  \"email\": null\\n}'}\n"
     ]
    },
    {
     "name": "stderr",
     "output_type": "stream",
     "text": [
      "Fetching pages: 100%|##########| 1/1 [00:01<00:00,  1.10s/it]\n",
      "2023-12-18 14:00:32,656:INFO - HTTP Request: POST https://api.openai.com/v1/embeddings \"HTTP/1.1 200 OK\"\n",
      "2023-12-18 14:00:33,180:INFO - HTTP Request: POST https://weflohyplshcasjyzpqa.supabase.co/rest/v1/documents \"HTTP/1.1 201 Created\"\n",
      "2023-12-18 14:00:35,113:INFO - HTTP Request: POST https://api.openai.com/v1/embeddings \"HTTP/1.1 200 OK\"\n",
      "2023-12-18 14:00:35,244:INFO - HTTP Request: POST https://weflohyplshcasjyzpqa.supabase.co/rest/v1/rpc/match_documents?limit=4 \"HTTP/1.1 200 OK\"\n",
      "2023-12-18 14:00:37,593:INFO - HTTP Request: POST https://api.openai.com/v1/chat/completions \"HTTP/1.1 200 OK\"\n"
     ]
    },
    {
     "name": "stdout",
     "output_type": "stream",
     "text": [
      "{'query': 'Extract the contact number and email address', 'result': '{\\n  \"phone_number\": \"+44 (0) 117 946 7072\",\\n  \"email\": \"help@i-escape.com\"\\n}'}\n"
     ]
    },
    {
     "name": "stderr",
     "output_type": "stream",
     "text": [
      "2023-12-18 14:00:37,819:INFO - HTTP Request: DELETE https://weflohyplshcasjyzpqa.supabase.co/rest/v1/documents?id=neq.00000000-0000-0000-0000-000000000000 \"HTTP/1.1 200 OK\"\n",
      "Fetching pages: 100%|##########| 1/1 [00:01<00:00,  1.84s/it]\n",
      "2023-12-18 14:00:42,589:INFO - HTTP Request: POST https://api.openai.com/v1/embeddings \"HTTP/1.1 200 OK\"\n",
      "2023-12-18 14:00:43,035:INFO - HTTP Request: POST https://weflohyplshcasjyzpqa.supabase.co/rest/v1/documents \"HTTP/1.1 201 Created\"\n",
      "2023-12-18 14:00:43,611:INFO - HTTP Request: POST https://api.openai.com/v1/embeddings \"HTTP/1.1 200 OK\"\n",
      "2023-12-18 14:00:43,719:INFO - HTTP Request: POST https://weflohyplshcasjyzpqa.supabase.co/rest/v1/rpc/match_documents?limit=4 \"HTTP/1.1 200 OK\"\n",
      "2023-12-18 14:00:46,415:INFO - HTTP Request: POST https://api.openai.com/v1/chat/completions \"HTTP/1.1 200 OK\"\n"
     ]
    },
    {
     "name": "stdout",
     "output_type": "stream",
     "text": [
      "{'query': 'Extract the contact number and email address', 'result': '{\\n  \"phone_number\": \"+506 8854 5858\",\\n  \"email\": \"info@calavacationhomes.com\"\\n}'}\n"
     ]
    },
    {
     "name": "stderr",
     "output_type": "stream",
     "text": [
      "2023-12-18 14:00:46,661:INFO - HTTP Request: DELETE https://weflohyplshcasjyzpqa.supabase.co/rest/v1/documents?id=neq.00000000-0000-0000-0000-000000000000 \"HTTP/1.1 200 OK\"\n",
      "Fetching pages: 100%|##########| 1/1 [00:01<00:00,  1.35s/it]\n",
      "2023-12-18 14:00:50,281:INFO - HTTP Request: POST https://api.openai.com/v1/embeddings \"HTTP/1.1 200 OK\"\n",
      "2023-12-18 14:00:51,151:INFO - HTTP Request: POST https://weflohyplshcasjyzpqa.supabase.co/rest/v1/documents \"HTTP/1.1 201 Created\"\n",
      "2023-12-18 14:00:51,702:INFO - HTTP Request: POST https://api.openai.com/v1/embeddings \"HTTP/1.1 200 OK\"\n",
      "2023-12-18 14:00:51,835:INFO - HTTP Request: POST https://weflohyplshcasjyzpqa.supabase.co/rest/v1/rpc/match_documents?limit=4 \"HTTP/1.1 200 OK\"\n",
      "2023-12-18 14:00:53,442:INFO - HTTP Request: POST https://api.openai.com/v1/chat/completions \"HTTP/1.1 200 OK\"\n",
      "2023-12-18 14:00:53,634:INFO - HTTP Request: DELETE https://weflohyplshcasjyzpqa.supabase.co/rest/v1/documents?id=neq.00000000-0000-0000-0000-000000000000 \"HTTP/1.1 200 OK\"\n"
     ]
    },
    {
     "name": "stdout",
     "output_type": "stream",
     "text": [
      "{'query': 'Extract the contact number and email address', 'result': '{\\n  \"phone_number\": null,\\n  \"email\": null\\n}'}\n"
     ]
    },
    {
     "name": "stderr",
     "output_type": "stream",
     "text": [
      "Fetching pages: 100%|##########| 1/1 [00:00<00:00,  3.63it/s]\n",
      "2023-12-18 14:00:55,797:INFO - HTTP Request: POST https://api.openai.com/v1/embeddings \"HTTP/1.1 200 OK\"\n",
      "2023-12-18 14:00:56,047:INFO - HTTP Request: POST https://weflohyplshcasjyzpqa.supabase.co/rest/v1/documents \"HTTP/1.1 201 Created\"\n",
      "2023-12-18 14:00:56,404:INFO - HTTP Request: POST https://api.openai.com/v1/embeddings \"HTTP/1.1 200 OK\"\n",
      "2023-12-18 14:00:56,512:INFO - HTTP Request: POST https://weflohyplshcasjyzpqa.supabase.co/rest/v1/rpc/match_documents?limit=4 \"HTTP/1.1 200 OK\"\n",
      "2023-12-18 14:00:58,233:INFO - HTTP Request: POST https://api.openai.com/v1/chat/completions \"HTTP/1.1 200 OK\"\n",
      "2023-12-18 14:00:58,330:INFO - HTTP Request: DELETE https://weflohyplshcasjyzpqa.supabase.co/rest/v1/documents?id=neq.00000000-0000-0000-0000-000000000000 \"HTTP/1.1 200 OK\"\n"
     ]
    },
    {
     "name": "stdout",
     "output_type": "stream",
     "text": [
      "{'query': 'Extract the contact number and email address', 'result': '{\\n  \"phone_number\": \"(800) 262-1578\",\\n  \"email\": null\\n}'}\n",
      "[{'phone_number': '+506 8683 1230', 'email': 'info@santateresaluxury.com', 'url': 'https://www.santateresaluxury.com/'}, {'phone_number': '+1 (754) 223 0031', 'email': None, 'url': 'https://www.luxuryvillasincostarica.com/mal-pais-santa-teresa/'}, {'phone_number': '+506 8494 5273', 'email': 'santateresavillas@gmail.com', 'url': 'https://villassantateresa.com/'}, {'phone_number': None, 'email': None, 'url': 'https://www.tripadvisor.com/Hotel_Review-g635538-d1977802-Reviews-Villas_Santa_Teresa-Santa_Teresa_Province_of_Puntarenas.html'}, {'phone_number': '+50688319711', 'email': 'inquiries@casateresacr.com', 'url': 'https://casateresacr.com/'}, {'phone_number': '+1 310 489 6504', 'email': None, 'url': 'https://www.joyavillascostarica.com/'}, {'phone_number': '+44 (0) 117 946 7072', 'email': 'help@i-escape.com', 'url': 'https://www.i-escape.com/santa-teresa-luxury-villas'}, {'phone_number': '+506 8854 5858', 'email': 'info@calavacationhomes.com', 'url': 'https://calavacationhomes.com/'}, {'phone_number': None, 'email': None, 'url': 'https://www.tripadvisor.com/Hotels-g635538-c3-zff22-Santa_Teresa_Province_of_Puntarenas-Hotels.html'}, {'phone_number': '(800) 262-1578', 'email': None, 'url': 'https://www.vacationscostarica.com/santa-teresa/rentals/'}]\n"
     ]
    }
   ],
   "source": [
    "query = \"Villas in Santa Teresa Costa Rica\"\n",
    "exceptionFilters = ['vrbo', 'trivago', 'airbnb', 'booking.com', 'hotels.com', 'expedia', 'tripadvisor']\n",
    "query_num = 10\n",
    "\n",
    "data = scrape(query, exceptionFilters, query_num)\n",
    "print(data)"
   ]
  },
  {
   "cell_type": "code",
   "execution_count": 41,
   "metadata": {},
   "outputs": [
    {
     "data": {
      "text/plain": [
       "[{'phone_number': '+506 8683 1230',\n",
       "  'email': 'info@santateresaluxury.com',\n",
       "  'url': 'https://www.santateresaluxury.com/'},\n",
       " {'phone_number': '+1 (754) 223 0031',\n",
       "  'email': None,\n",
       "  'url': 'https://www.luxuryvillasincostarica.com/mal-pais-santa-teresa/'},\n",
       " {'phone_number': '+506 8494 5273',\n",
       "  'email': 'santateresavillas@gmail.com',\n",
       "  'url': 'https://villassantateresa.com/'},\n",
       " {'phone_number': None,\n",
       "  'email': None,\n",
       "  'url': 'https://www.tripadvisor.com/Hotel_Review-g635538-d1977802-Reviews-Villas_Santa_Teresa-Santa_Teresa_Province_of_Puntarenas.html'},\n",
       " {'phone_number': '+50688319711',\n",
       "  'email': 'inquiries@casateresacr.com',\n",
       "  'url': 'https://casateresacr.com/'},\n",
       " {'phone_number': '+1 310 489 6504',\n",
       "  'email': None,\n",
       "  'url': 'https://www.joyavillascostarica.com/'},\n",
       " {'phone_number': '+44 (0) 117 946 7072',\n",
       "  'email': 'help@i-escape.com',\n",
       "  'url': 'https://www.i-escape.com/santa-teresa-luxury-villas'},\n",
       " {'phone_number': '+506 8854 5858',\n",
       "  'email': 'info@calavacationhomes.com',\n",
       "  'url': 'https://calavacationhomes.com/'},\n",
       " {'phone_number': None,\n",
       "  'email': None,\n",
       "  'url': 'https://www.tripadvisor.com/Hotels-g635538-c3-zff22-Santa_Teresa_Province_of_Puntarenas-Hotels.html'},\n",
       " {'phone_number': '(800) 262-1578',\n",
       "  'email': None,\n",
       "  'url': 'https://www.vacationscostarica.com/santa-teresa/rentals/'}]"
      ]
     },
     "execution_count": 41,
     "metadata": {},
     "output_type": "execute_result"
    }
   ],
   "source": [
    "data"
   ]
  },
  {
   "cell_type": "code",
   "execution_count": null,
   "metadata": {},
   "outputs": [],
   "source": []
  }
 ],
 "metadata": {
  "kernelspec": {
   "display_name": ".venv",
   "language": "python",
   "name": "python3"
  },
  "language_info": {
   "codemirror_mode": {
    "name": "ipython",
    "version": 3
   },
   "file_extension": ".py",
   "mimetype": "text/x-python",
   "name": "python",
   "nbconvert_exporter": "python",
   "pygments_lexer": "ipython3",
   "version": "3.10.8"
  }
 },
 "nbformat": 4,
 "nbformat_minor": 2
}
