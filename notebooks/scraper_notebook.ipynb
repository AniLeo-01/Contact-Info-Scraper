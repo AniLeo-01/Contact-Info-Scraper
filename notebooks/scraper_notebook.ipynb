{
 "cells": [
  {
   "cell_type": "markdown",
   "metadata": {},
   "source": [
    "## Importing the libraries"
   ]
  },
  {
   "cell_type": "code",
   "execution_count": 1,
   "metadata": {},
   "outputs": [],
   "source": [
    "from supabase.client import Client, create_client\n",
    "from langchain.text_splitter import RecursiveCharacterTextSplitter\n",
    "# from langchain.document_loaders import AsyncChromiumLoader\n",
    "from langchain.vectorstores import SupabaseVectorStore\n",
    "from langchain.document_loaders import AsyncHtmlLoader\n",
    "from langchain.document_transformers import BeautifulSoupTransformer\n",
    "import requests\n",
    "import json\n",
    "from langchain.embeddings.openai import OpenAIEmbeddings\n",
    "from langchain.chat_models import ChatOpenAI\n",
    "from langchain.prompts import PromptTemplate\n",
    "from langchain.chains import RetrievalQA\n",
    "import ast\n",
    "from dotenv import load_dotenv\n",
    "import os\n",
    "from typing import List"
   ]
  },
  {
   "cell_type": "markdown",
   "metadata": {},
   "source": [
    "## Defining the prompt and the environment variables"
   ]
  },
  {
   "cell_type": "code",
   "execution_count": 2,
   "metadata": {},
   "outputs": [],
   "source": [
    "load_dotenv()\n",
    "\n",
    "SUPABASE_URL = os.environ.get(\"SUPABASE_URL\")\n",
    "SUPABASE_KEY = os.environ.get(\"SUPABASE_KEY\")\n",
    "OPENAI_API_KEY = os.environ.get(\"OPENAI_API_KEY\")\n",
    "SERPER_API_KEY = os.environ.get(\"SERPER_API_KEY\")\n",
    "\n",
    "prompt = \"\"\"You are a highly advanced website scraper bot that understands phone numbers, emails and URLs.\\\n",
    "          Using the context below, perform the following task and return the output in JSON format with the keys: phone_number, email\\\n",
    "          Do not hallucinate anything or invent any response. Strictly follow the JSON format. If you don't find the value to the key, return None.\\\n",
    "          Context Information:\\\n",
    "          {context}\\\n",
    "          Task Instruction:\\\n",
    "        {question}\"\"\"\n",
    "\n"
   ]
  },
  {
   "cell_type": "markdown",
   "metadata": {},
   "source": [
    "## Initializing the supabase database"
   ]
  },
  {
   "cell_type": "code",
   "execution_count": 3,
   "metadata": {},
   "outputs": [],
   "source": [
    "def initialize_supabase_db():\n",
    "    supabase: Client = create_client(SUPABASE_URL, SUPABASE_KEY)\n",
    "    return supabase\n"
   ]
  },
  {
   "cell_type": "code",
   "execution_count": 5,
   "metadata": {},
   "outputs": [],
   "source": [
    "def create_supabase_vectorstore(embeddings: OpenAIEmbeddings, docs):\n",
    "    vector_store = SupabaseVectorStore.from_documents(\n",
    "        docs,\n",
    "        embedding = embeddings,\n",
    "        client=initialize_supabase_db(),\n",
    "        table_name=\"documents\",\n",
    "        query_name=\"match_documents\",\n",
    "    )\n",
    "    return vector_store"
   ]
  },
  {
   "cell_type": "markdown",
   "metadata": {},
   "source": [
    "## Initializing the HTML page loader and document transformer"
   ]
  },
  {
   "cell_type": "code",
   "execution_count": 4,
   "metadata": {},
   "outputs": [],
   "source": [
    "def scraper_with_AsyncHTMLLoader(url):\n",
    "    # loader = AsyncChromiumLoader(url)\n",
    "    loader = AsyncHtmlLoader(url, default_parser=\"html5lib\")\n",
    "    docs = loader.load()\n",
    "    bs_transformer = BeautifulSoupTransformer()\n",
    "    docs_transformed = bs_transformer.transform_documents(\n",
    "        docs, tags_to_extract=[\"header\", \"p\", \"li\", \"div\", \"a\", \"footer\"]\n",
    "    )\n",
    "    splitter = RecursiveCharacterTextSplitter.from_tiktoken_encoder(\n",
    "        chunk_size=1000, chunk_overlap=0\n",
    "    )\n",
    "    docs = splitter.split_documents(docs_transformed)\n",
    "    return docs"
   ]
  },
  {
   "cell_type": "markdown",
   "metadata": {},
   "source": [
    "## Defining the llm and retriever and extracting the contact information using RAG"
   ]
  },
  {
   "cell_type": "code",
   "execution_count": 6,
   "metadata": {},
   "outputs": [],
   "source": [
    "def contact_info_scraper_using_llm(prompt: str, docs):\n",
    "    llm = ChatOpenAI(temperature=0, openai_api_key=OPENAI_API_KEY)\n",
    "    embeddings = OpenAIEmbeddings(openai_api_key=OPENAI_API_KEY)\n",
    "    vector_retriever = create_supabase_vectorstore(embeddings, docs)\n",
    "\n",
    "    prompt_template = PromptTemplate(template=prompt,\n",
    "                                     input_variables=[\"question\", \"context\"])\n",
    "    question = \"Extract the contact number and email address\"\n",
    "    qa = RetrievalQA.from_chain_type(\n",
    "        llm = llm,\n",
    "        chain_type = 'stuff',\n",
    "        retriever = vector_retriever.as_retriever(),\n",
    "        chain_type_kwargs = {'prompt': prompt_template}\n",
    "    )\n",
    "    #fetch the query instruction from the prompts file\n",
    "    res = qa({'query': question})\n",
    "    return res"
   ]
  },
  {
   "cell_type": "markdown",
   "metadata": {},
   "source": [
    "## Initializing the google search engine API and extracting the URLs"
   ]
  },
  {
   "cell_type": "code",
   "execution_count": 7,
   "metadata": {},
   "outputs": [],
   "source": [
    "def get_google_search_results(query, filters, num_results):\n",
    "    # Make a GET request to the Google Custom JSON Search API\n",
    "    for filter in filters:\n",
    "        query = query + \" -inurl:\" + filter\n",
    "    url = \"https://google.serper.dev/search\"\n",
    "    payload = json.dumps({\n",
    "    \"q\": query,\n",
    "    \"num\": num_results\n",
    "    })\n",
    "    headers = {\n",
    "    'X-API-KEY': SERPER_API_KEY,\n",
    "    'Content-Type': 'application/json'\n",
    "    }\n",
    "    response = requests.request(\"POST\", url, headers=headers, data=payload)\n",
    "    # Parse the JSON response\n",
    "    data = ast.literal_eval(response.content.decode())\n",
    "\n",
    "    # Extract the URLs of the search results\n",
    "    urls = []\n",
    "    for item in data[\"organic\"]:\n",
    "        url = item[\"link\"]\n",
    "        urls.append(url)\n",
    "\n",
    "    return urls"
   ]
  },
  {
   "cell_type": "markdown",
   "metadata": {},
   "source": [
    "## Scrape function to take the user query and extract the contact information"
   ]
  },
  {
   "cell_type": "code",
   "execution_count": 8,
   "metadata": {},
   "outputs": [],
   "source": [
    "def scrape(query: str, exceptionFilters: List[str], num_results: int):\n",
    "    client = initialize_supabase_db()\n",
    "    urls = get_google_search_results(query, exceptionFilters, num_results)\n",
    "    print(\"URL: \", urls)\n",
    "    data = []\n",
    "    for url in urls:\n",
    "        docs = scraper_with_AsyncHTMLLoader([url])\n",
    "        results = contact_info_scraper_using_llm(prompt, docs)\n",
    "        # trick to delete all records from the documents table\n",
    "        client.table('documents').delete().neq('id', '00000000-0000-0000-0000-000000000000').execute()\n",
    "        res = json.loads(results['result'])\n",
    "        res['url'] = url\n",
    "        data.append(res)\n",
    "    return data"
   ]
  },
  {
   "cell_type": "code",
   "execution_count": 9,
   "metadata": {},
   "outputs": [
    {
     "name": "stdout",
     "output_type": "stream",
     "text": [
      "URL:  ['https://www.santateresaluxury.com/', 'https://www.luxuryvillasincostarica.com/mal-pais-santa-teresa/', 'https://villassantateresa.com/', 'https://casateresacr.com/', 'https://www.joyavillascostarica.com/', 'https://www.i-escape.com/santa-teresa-luxury-villas', 'https://calavacationhomes.com/', 'https://www.vacationscostarica.com/santa-teresa/rentals/', 'https://www.seataya.com/', 'https://www.selvaresort.com/']\n"
     ]
    },
    {
     "name": "stderr",
     "output_type": "stream",
     "text": [
      "Fetching pages: 100%|##########| 1/1 [00:04<00:00,  4.49s/it]\n",
      "2023-12-19 13:50:16,414:INFO - HTTP Request: POST https://api.openai.com/v1/embeddings \"HTTP/1.1 200 OK\"\n",
      "2023-12-19 13:50:18,373:INFO - HTTP Request: POST https://weflohyplshcasjyzpqa.supabase.co/rest/v1/documents \"HTTP/1.1 201 Created\"\n",
      "2023-12-19 13:50:18,907:INFO - HTTP Request: POST https://api.openai.com/v1/embeddings \"HTTP/1.1 200 OK\"\n",
      "2023-12-19 13:50:19,053:INFO - HTTP Request: POST https://weflohyplshcasjyzpqa.supabase.co/rest/v1/rpc/match_documents?limit=4 \"HTTP/1.1 200 OK\"\n",
      "2023-12-19 13:50:20,962:INFO - HTTP Request: POST https://api.openai.com/v1/chat/completions \"HTTP/1.1 200 OK\"\n",
      "2023-12-19 13:50:21,221:INFO - HTTP Request: DELETE https://weflohyplshcasjyzpqa.supabase.co/rest/v1/documents?id=neq.00000000-0000-0000-0000-000000000000 \"HTTP/1.1 200 OK\"\n",
      "Fetching pages: 100%|##########| 1/1 [00:02<00:00,  2.93s/it]\n",
      "2023-12-19 13:50:27,922:INFO - HTTP Request: POST https://api.openai.com/v1/embeddings \"HTTP/1.1 200 OK\"\n",
      "2023-12-19 13:50:29,147:INFO - HTTP Request: POST https://weflohyplshcasjyzpqa.supabase.co/rest/v1/documents \"HTTP/1.1 201 Created\"\n",
      "2023-12-19 13:50:29,659:INFO - HTTP Request: POST https://api.openai.com/v1/embeddings \"HTTP/1.1 200 OK\"\n",
      "2023-12-19 13:50:29,797:INFO - HTTP Request: POST https://weflohyplshcasjyzpqa.supabase.co/rest/v1/rpc/match_documents?limit=4 \"HTTP/1.1 200 OK\"\n",
      "2023-12-19 13:50:31,506:INFO - HTTP Request: POST https://api.openai.com/v1/chat/completions \"HTTP/1.1 200 OK\"\n",
      "2023-12-19 13:50:31,705:INFO - HTTP Request: DELETE https://weflohyplshcasjyzpqa.supabase.co/rest/v1/documents?id=neq.00000000-0000-0000-0000-000000000000 \"HTTP/1.1 200 OK\"\n",
      "Fetching pages: 100%|##########| 1/1 [00:03<00:00,  3.58s/it]\n",
      "2023-12-19 13:50:39,902:INFO - HTTP Request: POST https://api.openai.com/v1/embeddings \"HTTP/1.1 200 OK\"\n",
      "2023-12-19 13:50:40,262:INFO - HTTP Request: POST https://weflohyplshcasjyzpqa.supabase.co/rest/v1/documents \"HTTP/1.1 201 Created\"\n",
      "2023-12-19 13:50:40,826:INFO - HTTP Request: POST https://api.openai.com/v1/embeddings \"HTTP/1.1 200 OK\"\n",
      "2023-12-19 13:50:40,945:INFO - HTTP Request: POST https://weflohyplshcasjyzpqa.supabase.co/rest/v1/rpc/match_documents?limit=4 \"HTTP/1.1 200 OK\"\n",
      "2023-12-19 13:50:43,108:INFO - HTTP Request: POST https://api.openai.com/v1/chat/completions \"HTTP/1.1 200 OK\"\n",
      "2023-12-19 13:50:43,791:INFO - HTTP Request: DELETE https://weflohyplshcasjyzpqa.supabase.co/rest/v1/documents?id=neq.00000000-0000-0000-0000-000000000000 \"HTTP/1.1 200 OK\"\n",
      "Fetching pages: 100%|##########| 1/1 [00:01<00:00,  1.63s/it]\n",
      "2023-12-19 13:50:48,602:INFO - HTTP Request: POST https://api.openai.com/v1/embeddings \"HTTP/1.1 200 OK\"\n",
      "2023-12-19 13:50:49,544:INFO - HTTP Request: POST https://weflohyplshcasjyzpqa.supabase.co/rest/v1/documents \"HTTP/1.1 201 Created\"\n",
      "2023-12-19 13:50:49,991:INFO - HTTP Request: POST https://api.openai.com/v1/embeddings \"HTTP/1.1 200 OK\"\n",
      "2023-12-19 13:50:50,152:INFO - HTTP Request: POST https://weflohyplshcasjyzpqa.supabase.co/rest/v1/rpc/match_documents?limit=4 \"HTTP/1.1 200 OK\"\n",
      "2023-12-19 13:50:51,882:INFO - HTTP Request: POST https://api.openai.com/v1/chat/completions \"HTTP/1.1 200 OK\"\n",
      "2023-12-19 13:50:52,076:INFO - HTTP Request: DELETE https://weflohyplshcasjyzpqa.supabase.co/rest/v1/documents?id=neq.00000000-0000-0000-0000-000000000000 \"HTTP/1.1 200 OK\"\n",
      "Fetching pages: 100%|##########| 1/1 [00:01<00:00,  1.43s/it]\n",
      "2023-12-19 13:51:04,858:INFO - HTTP Request: POST https://api.openai.com/v1/embeddings \"HTTP/1.1 200 OK\"\n",
      "2023-12-19 13:51:05,146:INFO - HTTP Request: POST https://weflohyplshcasjyzpqa.supabase.co/rest/v1/documents \"HTTP/1.1 201 Created\"\n",
      "2023-12-19 13:51:05,602:INFO - HTTP Request: POST https://api.openai.com/v1/embeddings \"HTTP/1.1 200 OK\"\n",
      "2023-12-19 13:51:05,757:INFO - HTTP Request: POST https://weflohyplshcasjyzpqa.supabase.co/rest/v1/rpc/match_documents?limit=4 \"HTTP/1.1 200 OK\"\n",
      "2023-12-19 13:51:07,345:INFO - HTTP Request: POST https://api.openai.com/v1/chat/completions \"HTTP/1.1 200 OK\"\n",
      "2023-12-19 13:51:07,541:INFO - HTTP Request: DELETE https://weflohyplshcasjyzpqa.supabase.co/rest/v1/documents?id=neq.00000000-0000-0000-0000-000000000000 \"HTTP/1.1 200 OK\"\n",
      "Fetching pages: 100%|##########| 1/1 [00:01<00:00,  1.39s/it]\n",
      "2023-12-19 13:51:11,082:INFO - HTTP Request: POST https://api.openai.com/v1/embeddings \"HTTP/1.1 200 OK\"\n",
      "2023-12-19 13:51:11,701:INFO - HTTP Request: POST https://weflohyplshcasjyzpqa.supabase.co/rest/v1/documents \"HTTP/1.1 201 Created\"\n",
      "2023-12-19 13:51:12,157:INFO - HTTP Request: POST https://api.openai.com/v1/embeddings \"HTTP/1.1 200 OK\"\n",
      "2023-12-19 13:51:12,280:INFO - HTTP Request: POST https://weflohyplshcasjyzpqa.supabase.co/rest/v1/rpc/match_documents?limit=4 \"HTTP/1.1 200 OK\"\n",
      "2023-12-19 13:51:14,311:INFO - HTTP Request: POST https://api.openai.com/v1/chat/completions \"HTTP/1.1 200 OK\"\n",
      "2023-12-19 13:51:14,500:INFO - HTTP Request: DELETE https://weflohyplshcasjyzpqa.supabase.co/rest/v1/documents?id=neq.00000000-0000-0000-0000-000000000000 \"HTTP/1.1 200 OK\"\n",
      "Fetching pages: 100%|##########| 1/1 [00:01<00:00,  1.66s/it]\n",
      "2023-12-19 13:51:18,848:INFO - HTTP Request: POST https://api.openai.com/v1/embeddings \"HTTP/1.1 200 OK\"\n",
      "2023-12-19 13:51:19,483:INFO - HTTP Request: POST https://weflohyplshcasjyzpqa.supabase.co/rest/v1/documents \"HTTP/1.1 201 Created\"\n",
      "2023-12-19 13:51:19,889:INFO - HTTP Request: POST https://api.openai.com/v1/embeddings \"HTTP/1.1 200 OK\"\n",
      "2023-12-19 13:51:20,089:INFO - HTTP Request: POST https://weflohyplshcasjyzpqa.supabase.co/rest/v1/rpc/match_documents?limit=4 \"HTTP/1.1 200 OK\"\n",
      "2023-12-19 13:51:21,686:INFO - HTTP Request: POST https://api.openai.com/v1/chat/completions \"HTTP/1.1 200 OK\"\n",
      "2023-12-19 13:51:21,952:INFO - HTTP Request: DELETE https://weflohyplshcasjyzpqa.supabase.co/rest/v1/documents?id=neq.00000000-0000-0000-0000-000000000000 \"HTTP/1.1 200 OK\"\n",
      "Fetching pages: 100%|##########| 1/1 [00:00<00:00,  3.12it/s]\n",
      "2023-12-19 13:51:23,318:INFO - HTTP Request: POST https://api.openai.com/v1/embeddings \"HTTP/1.1 200 OK\"\n",
      "2023-12-19 13:51:23,592:INFO - HTTP Request: POST https://weflohyplshcasjyzpqa.supabase.co/rest/v1/documents \"HTTP/1.1 201 Created\"\n",
      "2023-12-19 13:51:24,035:INFO - HTTP Request: POST https://api.openai.com/v1/embeddings \"HTTP/1.1 200 OK\"\n",
      "2023-12-19 13:51:24,365:INFO - HTTP Request: POST https://weflohyplshcasjyzpqa.supabase.co/rest/v1/rpc/match_documents?limit=4 \"HTTP/1.1 200 OK\"\n",
      "2023-12-19 13:51:26,393:INFO - HTTP Request: POST https://api.openai.com/v1/chat/completions \"HTTP/1.1 200 OK\"\n",
      "2023-12-19 13:51:26,514:INFO - HTTP Request: DELETE https://weflohyplshcasjyzpqa.supabase.co/rest/v1/documents?id=neq.00000000-0000-0000-0000-000000000000 \"HTTP/1.1 200 OK\"\n",
      "Fetching pages: 100%|##########| 1/1 [00:02<00:00,  2.48s/it]\n",
      "2023-12-19 13:51:37,389:INFO - HTTP Request: POST https://api.openai.com/v1/embeddings \"HTTP/1.1 200 OK\"\n",
      "2023-12-19 13:51:37,719:INFO - HTTP Request: POST https://weflohyplshcasjyzpqa.supabase.co/rest/v1/documents \"HTTP/1.1 201 Created\"\n",
      "2023-12-19 13:51:38,085:INFO - HTTP Request: POST https://api.openai.com/v1/embeddings \"HTTP/1.1 200 OK\"\n",
      "2023-12-19 13:51:38,209:INFO - HTTP Request: POST https://weflohyplshcasjyzpqa.supabase.co/rest/v1/rpc/match_documents?limit=4 \"HTTP/1.1 200 OK\"\n",
      "2023-12-19 13:51:39,271:INFO - HTTP Request: POST https://api.openai.com/v1/chat/completions \"HTTP/1.1 200 OK\"\n",
      "2023-12-19 13:51:39,462:INFO - HTTP Request: DELETE https://weflohyplshcasjyzpqa.supabase.co/rest/v1/documents?id=neq.00000000-0000-0000-0000-000000000000 \"HTTP/1.1 200 OK\"\n",
      "Fetching pages: 100%|##########| 1/1 [00:03<00:00,  3.48s/it]\n",
      "2023-12-19 13:51:45,626:INFO - HTTP Request: POST https://api.openai.com/v1/embeddings \"HTTP/1.1 200 OK\"\n",
      "2023-12-19 13:51:46,244:INFO - HTTP Request: POST https://weflohyplshcasjyzpqa.supabase.co/rest/v1/documents \"HTTP/1.1 201 Created\"\n",
      "2023-12-19 13:51:46,769:INFO - HTTP Request: POST https://api.openai.com/v1/embeddings \"HTTP/1.1 200 OK\"\n",
      "2023-12-19 13:51:46,902:INFO - HTTP Request: POST https://weflohyplshcasjyzpqa.supabase.co/rest/v1/rpc/match_documents?limit=4 \"HTTP/1.1 200 OK\"\n",
      "2023-12-19 13:51:48,939:INFO - HTTP Request: POST https://api.openai.com/v1/chat/completions \"HTTP/1.1 200 OK\"\n",
      "2023-12-19 13:51:49,142:INFO - HTTP Request: DELETE https://weflohyplshcasjyzpqa.supabase.co/rest/v1/documents?id=neq.00000000-0000-0000-0000-000000000000 \"HTTP/1.1 200 OK\"\n"
     ]
    },
    {
     "name": "stdout",
     "output_type": "stream",
     "text": [
      "[{'phone_number': '+506 8683 1230', 'email': 'info@santateresaluxury.com', 'url': 'https://www.santateresaluxury.com/'}, {'phone_number': '+1 (754) 223 0031', 'email': None, 'url': 'https://www.luxuryvillasincostarica.com/mal-pais-santa-teresa/'}, {'phone_number': '+506 8494 5273', 'email': 'santateresavillas@gmail.com', 'url': 'https://villassantateresa.com/'}, {'phone_number': '+50688319711', 'email': 'inquiries@casateresacr.com', 'url': 'https://casateresacr.com/'}, {'phone_number': '+1 310 489 6504', 'email': None, 'url': 'https://www.joyavillascostarica.com/'}, {'phone_number': '+44 (0) 117 946 7072', 'email': 'help@i-escape.com', 'url': 'https://www.i-escape.com/santa-teresa-luxury-villas'}, {'phone_number': '+506 8854 5858', 'email': 'info@calavacationhomes.com', 'url': 'https://calavacationhomes.com/'}, {'phone_number': '(800) 262-1578', 'email': None, 'url': 'https://www.vacationscostarica.com/santa-teresa/rentals/'}, {'phone_number': None, 'email': None, 'url': 'https://www.seataya.com/'}, {'phone_number': '+506 8935 9597', 'email': 'contact@selvaresort.com', 'url': 'https://www.selvaresort.com/'}]\n"
     ]
    }
   ],
   "source": [
    "query = \"Villas in Santa Teresa Costa Rica\"\n",
    "exceptionFilters = ['vrbo', 'trivago', 'airbnb', 'booking.com', 'hotels.com', 'expedia', 'tripadvisor']\n",
    "query_num = 10\n",
    "\n",
    "data = scrape(query, exceptionFilters, query_num)\n",
    "print(data)"
   ]
  },
  {
   "cell_type": "code",
   "execution_count": 10,
   "metadata": {},
   "outputs": [
    {
     "data": {
      "text/plain": [
       "[{'phone_number': '+506 8683 1230',\n",
       "  'email': 'info@santateresaluxury.com',\n",
       "  'url': 'https://www.santateresaluxury.com/'},\n",
       " {'phone_number': '+1 (754) 223 0031',\n",
       "  'email': None,\n",
       "  'url': 'https://www.luxuryvillasincostarica.com/mal-pais-santa-teresa/'},\n",
       " {'phone_number': '+506 8494 5273',\n",
       "  'email': 'santateresavillas@gmail.com',\n",
       "  'url': 'https://villassantateresa.com/'},\n",
       " {'phone_number': '+50688319711',\n",
       "  'email': 'inquiries@casateresacr.com',\n",
       "  'url': 'https://casateresacr.com/'},\n",
       " {'phone_number': '+1 310 489 6504',\n",
       "  'email': None,\n",
       "  'url': 'https://www.joyavillascostarica.com/'},\n",
       " {'phone_number': '+44 (0) 117 946 7072',\n",
       "  'email': 'help@i-escape.com',\n",
       "  'url': 'https://www.i-escape.com/santa-teresa-luxury-villas'},\n",
       " {'phone_number': '+506 8854 5858',\n",
       "  'email': 'info@calavacationhomes.com',\n",
       "  'url': 'https://calavacationhomes.com/'},\n",
       " {'phone_number': '(800) 262-1578',\n",
       "  'email': None,\n",
       "  'url': 'https://www.vacationscostarica.com/santa-teresa/rentals/'},\n",
       " {'phone_number': None, 'email': None, 'url': 'https://www.seataya.com/'},\n",
       " {'phone_number': '+506 8935 9597',\n",
       "  'email': 'contact@selvaresort.com',\n",
       "  'url': 'https://www.selvaresort.com/'}]"
      ]
     },
     "execution_count": 10,
     "metadata": {},
     "output_type": "execute_result"
    }
   ],
   "source": [
    "data"
   ]
  },
  {
   "cell_type": "code",
   "execution_count": null,
   "metadata": {},
   "outputs": [],
   "source": []
  }
 ],
 "metadata": {
  "kernelspec": {
   "display_name": ".venv",
   "language": "python",
   "name": "python3"
  },
  "language_info": {
   "codemirror_mode": {
    "name": "ipython",
    "version": 3
   },
   "file_extension": ".py",
   "mimetype": "text/x-python",
   "name": "python",
   "nbconvert_exporter": "python",
   "pygments_lexer": "ipython3",
   "version": "3.10.8"
  }
 },
 "nbformat": 4,
 "nbformat_minor": 2
}
